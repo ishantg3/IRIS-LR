{
  "nbformat": 4,
  "nbformat_minor": 0,
  "metadata": {
    "colab": {
      "provenance": [],
      "authorship_tag": "ABX9TyP/JgcWIsNpH9JM5UEhovVQ",
      "include_colab_link": true
    },
    "kernelspec": {
      "name": "python3",
      "display_name": "Python 3"
    },
    "language_info": {
      "name": "python"
    }
  },
  "cells": [
    {
      "cell_type": "markdown",
      "metadata": {
        "id": "view-in-github",
        "colab_type": "text"
      },
      "source": [
        "<a href=\"https://colab.research.google.com/github/ishantg3/IRIS-LR/blob/main/Make_classification.ipynb\" target=\"_parent\"><img src=\"https://colab.research.google.com/assets/colab-badge.svg\" alt=\"Open In Colab\"/></a>"
      ]
    },
    {
      "cell_type": "markdown",
      "source": [
        "## Logistic Regression for Multiclass Classification\n"
      ],
      "metadata": {
        "id": "hSQFeZU-cXUZ"
      }
    },
    {
      "cell_type": "code",
      "source": [
        "from sklearn.datasets import make_classification\n",
        "from sklearn.linear_model import LogisticRegression\n",
        "import numpy as np\n",
        "import pandas as pd\n",
        "# Define Dataset\n",
        "X, y=make_classification(n_samples=1000, n_features=10, n_informative=5, n_redundant=5, n_classes=3, random_state=42)"
      ],
      "metadata": {
        "id": "s3Lvd8NCcgdh"
      },
      "execution_count": null,
      "outputs": []
    },
    {
      "cell_type": "markdown",
      "source": [
        "## Using Multinomial Regression  "
      ],
      "metadata": {
        "id": "Lluk5goSm5eZ"
      }
    },
    {
      "cell_type": "code",
      "source": [
        "# Define the multinomial Logistic Regression model for Multiclass classification\n",
        "model = LogisticRegression(multi_class='multinomial', solver='lbfgs')"
      ],
      "metadata": {
        "id": "hUfuS3JPekBS"
      },
      "execution_count": null,
      "outputs": []
    },
    {
      "cell_type": "code",
      "source": [
        "from sklearn.model_selection import train_test_split\n",
        "X_train, X_test, y_train, y_test=train_test_split(X,y,test_size=0.20, random_state=42 )"
      ],
      "metadata": {
        "id": "K7OBJK1jfZ4u"
      },
      "execution_count": null,
      "outputs": []
    },
    {
      "cell_type": "code",
      "source": [
        "model.fit(X_train, y_train)"
      ],
      "metadata": {
        "colab": {
          "base_uri": "https://localhost:8080/",
          "height": 74
        },
        "id": "RfMGpdG8hju9",
        "outputId": "f1c264f2-e8dd-4c39-9d05-62d5f6da858c"
      },
      "execution_count": null,
      "outputs": [
        {
          "output_type": "execute_result",
          "data": {
            "text/plain": [
              "LogisticRegression(multi_class='multinomial')"
            ],
            "text/html": [
              "<style>#sk-container-id-1 {color: black;background-color: white;}#sk-container-id-1 pre{padding: 0;}#sk-container-id-1 div.sk-toggleable {background-color: white;}#sk-container-id-1 label.sk-toggleable__label {cursor: pointer;display: block;width: 100%;margin-bottom: 0;padding: 0.3em;box-sizing: border-box;text-align: center;}#sk-container-id-1 label.sk-toggleable__label-arrow:before {content: \"▸\";float: left;margin-right: 0.25em;color: #696969;}#sk-container-id-1 label.sk-toggleable__label-arrow:hover:before {color: black;}#sk-container-id-1 div.sk-estimator:hover label.sk-toggleable__label-arrow:before {color: black;}#sk-container-id-1 div.sk-toggleable__content {max-height: 0;max-width: 0;overflow: hidden;text-align: left;background-color: #f0f8ff;}#sk-container-id-1 div.sk-toggleable__content pre {margin: 0.2em;color: black;border-radius: 0.25em;background-color: #f0f8ff;}#sk-container-id-1 input.sk-toggleable__control:checked~div.sk-toggleable__content {max-height: 200px;max-width: 100%;overflow: auto;}#sk-container-id-1 input.sk-toggleable__control:checked~label.sk-toggleable__label-arrow:before {content: \"▾\";}#sk-container-id-1 div.sk-estimator input.sk-toggleable__control:checked~label.sk-toggleable__label {background-color: #d4ebff;}#sk-container-id-1 div.sk-label input.sk-toggleable__control:checked~label.sk-toggleable__label {background-color: #d4ebff;}#sk-container-id-1 input.sk-hidden--visually {border: 0;clip: rect(1px 1px 1px 1px);clip: rect(1px, 1px, 1px, 1px);height: 1px;margin: -1px;overflow: hidden;padding: 0;position: absolute;width: 1px;}#sk-container-id-1 div.sk-estimator {font-family: monospace;background-color: #f0f8ff;border: 1px dotted black;border-radius: 0.25em;box-sizing: border-box;margin-bottom: 0.5em;}#sk-container-id-1 div.sk-estimator:hover {background-color: #d4ebff;}#sk-container-id-1 div.sk-parallel-item::after {content: \"\";width: 100%;border-bottom: 1px solid gray;flex-grow: 1;}#sk-container-id-1 div.sk-label:hover label.sk-toggleable__label {background-color: #d4ebff;}#sk-container-id-1 div.sk-serial::before {content: \"\";position: absolute;border-left: 1px solid gray;box-sizing: border-box;top: 0;bottom: 0;left: 50%;z-index: 0;}#sk-container-id-1 div.sk-serial {display: flex;flex-direction: column;align-items: center;background-color: white;padding-right: 0.2em;padding-left: 0.2em;position: relative;}#sk-container-id-1 div.sk-item {position: relative;z-index: 1;}#sk-container-id-1 div.sk-parallel {display: flex;align-items: stretch;justify-content: center;background-color: white;position: relative;}#sk-container-id-1 div.sk-item::before, #sk-container-id-1 div.sk-parallel-item::before {content: \"\";position: absolute;border-left: 1px solid gray;box-sizing: border-box;top: 0;bottom: 0;left: 50%;z-index: -1;}#sk-container-id-1 div.sk-parallel-item {display: flex;flex-direction: column;z-index: 1;position: relative;background-color: white;}#sk-container-id-1 div.sk-parallel-item:first-child::after {align-self: flex-end;width: 50%;}#sk-container-id-1 div.sk-parallel-item:last-child::after {align-self: flex-start;width: 50%;}#sk-container-id-1 div.sk-parallel-item:only-child::after {width: 0;}#sk-container-id-1 div.sk-dashed-wrapped {border: 1px dashed gray;margin: 0 0.4em 0.5em 0.4em;box-sizing: border-box;padding-bottom: 0.4em;background-color: white;}#sk-container-id-1 div.sk-label label {font-family: monospace;font-weight: bold;display: inline-block;line-height: 1.2em;}#sk-container-id-1 div.sk-label-container {text-align: center;}#sk-container-id-1 div.sk-container {/* jupyter's `normalize.less` sets `[hidden] { display: none; }` but bootstrap.min.css set `[hidden] { display: none !important; }` so we also need the `!important` here to be able to override the default hidden behavior on the sphinx rendered scikit-learn.org. See: https://github.com/scikit-learn/scikit-learn/issues/21755 */display: inline-block !important;position: relative;}#sk-container-id-1 div.sk-text-repr-fallback {display: none;}</style><div id=\"sk-container-id-1\" class=\"sk-top-container\"><div class=\"sk-text-repr-fallback\"><pre>LogisticRegression(multi_class=&#x27;multinomial&#x27;)</pre><b>In a Jupyter environment, please rerun this cell to show the HTML representation or trust the notebook. <br />On GitHub, the HTML representation is unable to render, please try loading this page with nbviewer.org.</b></div><div class=\"sk-container\" hidden><div class=\"sk-item\"><div class=\"sk-estimator sk-toggleable\"><input class=\"sk-toggleable__control sk-hidden--visually\" id=\"sk-estimator-id-1\" type=\"checkbox\" checked><label for=\"sk-estimator-id-1\" class=\"sk-toggleable__label sk-toggleable__label-arrow\">LogisticRegression</label><div class=\"sk-toggleable__content\"><pre>LogisticRegression(multi_class=&#x27;multinomial&#x27;)</pre></div></div></div></div></div>"
            ]
          },
          "metadata": {},
          "execution_count": 5
        }
      ]
    },
    {
      "cell_type": "code",
      "source": [
        "y_pred=model.predict(X_test)"
      ],
      "metadata": {
        "id": "QJqCZdmukUtQ"
      },
      "execution_count": null,
      "outputs": []
    },
    {
      "cell_type": "code",
      "source": [
        "y_pred_proba=model.predict_proba(X_test)\n",
        "y_pred_proba = np.round(y_pred_proba, 2)"
      ],
      "metadata": {
        "id": "YVtv8YLnlME4"
      },
      "execution_count": null,
      "outputs": []
    },
    {
      "cell_type": "code",
      "source": [
        "y_pred_proba"
      ],
      "metadata": {
        "colab": {
          "base_uri": "https://localhost:8080/"
        },
        "id": "RQZA78OylVtu",
        "outputId": "f6513fef-e7e6-49f0-b079-e97fc7b8392a"
      },
      "execution_count": null,
      "outputs": [
        {
          "output_type": "execute_result",
          "data": {
            "text/plain": [
              "array([[0.08, 0.65, 0.26],\n",
              "       [0.44, 0.28, 0.28],\n",
              "       [0.25, 0.39, 0.36],\n",
              "       [0.  , 0.77, 0.22],\n",
              "       [0.77, 0.04, 0.19],\n",
              "       [0.98, 0.  , 0.02],\n",
              "       [0.06, 0.53, 0.41],\n",
              "       [0.36, 0.1 , 0.54],\n",
              "       [0.15, 0.34, 0.51],\n",
              "       [0.31, 0.16, 0.53],\n",
              "       [0.46, 0.14, 0.4 ],\n",
              "       [0.93, 0.  , 0.07],\n",
              "       [0.57, 0.01, 0.42],\n",
              "       [0.93, 0.  , 0.07],\n",
              "       [0.76, 0.04, 0.2 ],\n",
              "       [0.82, 0.01, 0.17],\n",
              "       [0.35, 0.1 , 0.54],\n",
              "       [0.06, 0.42, 0.52],\n",
              "       [0.19, 0.22, 0.59],\n",
              "       [0.  , 0.95, 0.05],\n",
              "       [0.19, 0.17, 0.65],\n",
              "       [0.08, 0.39, 0.53],\n",
              "       [0.73, 0.04, 0.23],\n",
              "       [0.55, 0.21, 0.23],\n",
              "       [0.69, 0.06, 0.25],\n",
              "       [0.82, 0.02, 0.16],\n",
              "       [0.03, 0.66, 0.31],\n",
              "       [0.19, 0.21, 0.6 ],\n",
              "       [0.43, 0.1 , 0.47],\n",
              "       [0.92, 0.  , 0.08],\n",
              "       [0.18, 0.59, 0.23],\n",
              "       [0.96, 0.01, 0.03],\n",
              "       [0.03, 0.39, 0.58],\n",
              "       [0.08, 0.35, 0.57],\n",
              "       [0.05, 0.59, 0.35],\n",
              "       [0.07, 0.63, 0.3 ],\n",
              "       [0.73, 0.11, 0.17],\n",
              "       [0.  , 0.88, 0.12],\n",
              "       [0.23, 0.39, 0.38],\n",
              "       [0.42, 0.37, 0.21],\n",
              "       [0.8 , 0.05, 0.15],\n",
              "       [0.02, 0.42, 0.56],\n",
              "       [0.38, 0.09, 0.53],\n",
              "       [0.2 , 0.08, 0.72],\n",
              "       [0.38, 0.04, 0.58],\n",
              "       [0.82, 0.04, 0.15],\n",
              "       [0.69, 0.07, 0.24],\n",
              "       [0.79, 0.01, 0.2 ],\n",
              "       [0.04, 0.85, 0.11],\n",
              "       [0.08, 0.54, 0.38],\n",
              "       [0.01, 0.69, 0.3 ],\n",
              "       [0.28, 0.46, 0.25],\n",
              "       [0.03, 0.58, 0.39],\n",
              "       [0.01, 0.83, 0.16],\n",
              "       [0.36, 0.36, 0.29],\n",
              "       [0.71, 0.08, 0.21],\n",
              "       [0.23, 0.12, 0.65],\n",
              "       [0.08, 0.66, 0.26],\n",
              "       [0.88, 0.07, 0.05],\n",
              "       [0.11, 0.7 , 0.18],\n",
              "       [0.31, 0.37, 0.32],\n",
              "       [0.66, 0.06, 0.28],\n",
              "       [0.43, 0.14, 0.43],\n",
              "       [0.27, 0.08, 0.65],\n",
              "       [0.22, 0.54, 0.24],\n",
              "       [0.47, 0.  , 0.52],\n",
              "       [0.76, 0.06, 0.18],\n",
              "       [0.85, 0.  , 0.15],\n",
              "       [0.02, 0.49, 0.49],\n",
              "       [0.  , 0.15, 0.85],\n",
              "       [0.06, 0.3 , 0.64],\n",
              "       [0.55, 0.17, 0.28],\n",
              "       [0.12, 0.48, 0.4 ],\n",
              "       [0.18, 0.27, 0.54],\n",
              "       [0.19, 0.32, 0.49],\n",
              "       [0.  , 0.95, 0.05],\n",
              "       [0.1 , 0.37, 0.53],\n",
              "       [0.49, 0.14, 0.37],\n",
              "       [0.37, 0.35, 0.27],\n",
              "       [0.89, 0.01, 0.1 ],\n",
              "       [0.39, 0.28, 0.33],\n",
              "       [0.25, 0.2 , 0.55],\n",
              "       [0.27, 0.04, 0.69],\n",
              "       [0.03, 0.51, 0.46],\n",
              "       [0.26, 0.1 , 0.63],\n",
              "       [0.41, 0.12, 0.47],\n",
              "       [0.43, 0.09, 0.48],\n",
              "       [0.29, 0.36, 0.35],\n",
              "       [0.54, 0.21, 0.24],\n",
              "       [0.07, 0.54, 0.39],\n",
              "       [0.03, 0.63, 0.34],\n",
              "       [0.05, 0.63, 0.32],\n",
              "       [0.  , 0.76, 0.23],\n",
              "       [0.  , 0.97, 0.03],\n",
              "       [0.57, 0.17, 0.26],\n",
              "       [0.19, 0.41, 0.4 ],\n",
              "       [0.63, 0.12, 0.25],\n",
              "       [0.41, 0.04, 0.55],\n",
              "       [0.15, 0.38, 0.47],\n",
              "       [0.26, 0.09, 0.65],\n",
              "       [0.01, 0.7 , 0.29],\n",
              "       [0.49, 0.13, 0.39],\n",
              "       [0.12, 0.47, 0.41],\n",
              "       [0.08, 0.49, 0.43],\n",
              "       [0.3 , 0.05, 0.65],\n",
              "       [0.31, 0.57, 0.12],\n",
              "       [0.01, 0.81, 0.18],\n",
              "       [0.05, 0.48, 0.47],\n",
              "       [0.55, 0.17, 0.29],\n",
              "       [0.07, 0.67, 0.26],\n",
              "       [0.17, 0.27, 0.56],\n",
              "       [0.84, 0.02, 0.14],\n",
              "       [0.53, 0.09, 0.38],\n",
              "       [0.02, 0.47, 0.51],\n",
              "       [0.01, 0.52, 0.48],\n",
              "       [0.37, 0.26, 0.38],\n",
              "       [0.46, 0.19, 0.35],\n",
              "       [0.01, 0.78, 0.22],\n",
              "       [0.25, 0.27, 0.48],\n",
              "       [0.  , 0.59, 0.41],\n",
              "       [0.25, 0.05, 0.7 ],\n",
              "       [0.41, 0.17, 0.42],\n",
              "       [0.02, 0.68, 0.3 ],\n",
              "       [0.93, 0.  , 0.06],\n",
              "       [0.47, 0.4 , 0.13],\n",
              "       [0.78, 0.12, 0.09],\n",
              "       [0.03, 0.65, 0.32],\n",
              "       [0.19, 0.13, 0.68],\n",
              "       [0.51, 0.09, 0.4 ],\n",
              "       [0.04, 0.42, 0.53],\n",
              "       [0.52, 0.04, 0.44],\n",
              "       [0.94, 0.  , 0.06],\n",
              "       [0.18, 0.33, 0.49],\n",
              "       [0.04, 0.69, 0.27],\n",
              "       [0.87, 0.02, 0.11],\n",
              "       [0.09, 0.47, 0.44],\n",
              "       [0.91, 0.01, 0.08],\n",
              "       [0.01, 0.74, 0.25],\n",
              "       [0.25, 0.07, 0.68],\n",
              "       [0.  , 0.85, 0.15],\n",
              "       [0.41, 0.14, 0.45],\n",
              "       [0.37, 0.07, 0.56],\n",
              "       [0.01, 0.84, 0.15],\n",
              "       [0.39, 0.22, 0.39],\n",
              "       [0.  , 0.43, 0.56],\n",
              "       [0.89, 0.02, 0.09],\n",
              "       [0.4 , 0.01, 0.59],\n",
              "       [0.24, 0.27, 0.49],\n",
              "       [0.1 , 0.5 , 0.41],\n",
              "       [0.02, 0.75, 0.22],\n",
              "       [0.7 , 0.06, 0.24],\n",
              "       [0.67, 0.06, 0.27],\n",
              "       [0.7 , 0.02, 0.28],\n",
              "       [0.14, 0.24, 0.62],\n",
              "       [0.03, 0.75, 0.23],\n",
              "       [0.99, 0.  , 0.01],\n",
              "       [0.01, 0.8 , 0.19],\n",
              "       [0.67, 0.06, 0.27],\n",
              "       [0.5 , 0.03, 0.47],\n",
              "       [0.01, 0.51, 0.48],\n",
              "       [0.05, 0.45, 0.5 ],\n",
              "       [0.19, 0.36, 0.45],\n",
              "       [0.01, 0.78, 0.21],\n",
              "       [0.89, 0.01, 0.1 ],\n",
              "       [0.99, 0.  , 0.01],\n",
              "       [0.08, 0.82, 0.1 ],\n",
              "       [0.76, 0.07, 0.16],\n",
              "       [0.65, 0.14, 0.21],\n",
              "       [0.38, 0.36, 0.26],\n",
              "       [0.19, 0.2 , 0.61],\n",
              "       [0.  , 0.37, 0.63],\n",
              "       [0.7 , 0.06, 0.24],\n",
              "       [0.44, 0.02, 0.54],\n",
              "       [0.  , 0.54, 0.46],\n",
              "       [0.  , 0.97, 0.03],\n",
              "       [0.37, 0.27, 0.36],\n",
              "       [0.04, 0.86, 0.1 ],\n",
              "       [0.14, 0.7 , 0.15],\n",
              "       [0.  , 0.13, 0.86],\n",
              "       [0.71, 0.03, 0.27],\n",
              "       [0.02, 0.7 , 0.28],\n",
              "       [0.03, 0.91, 0.07],\n",
              "       [0.58, 0.22, 0.2 ],\n",
              "       [0.95, 0.  , 0.05],\n",
              "       [0.2 , 0.06, 0.75],\n",
              "       [0.22, 0.21, 0.57],\n",
              "       [0.  , 0.96, 0.04],\n",
              "       [0.18, 0.37, 0.45],\n",
              "       [0.96, 0.01, 0.03],\n",
              "       [0.07, 0.59, 0.34],\n",
              "       [0.77, 0.01, 0.22],\n",
              "       [0.  , 0.95, 0.05],\n",
              "       [0.  , 0.98, 0.02],\n",
              "       [0.12, 0.77, 0.11],\n",
              "       [0.03, 0.51, 0.45],\n",
              "       [0.82, 0.06, 0.13],\n",
              "       [0.09, 0.63, 0.28],\n",
              "       [0.01, 0.57, 0.42],\n",
              "       [0.02, 0.76, 0.21],\n",
              "       [0.16, 0.54, 0.3 ]])"
            ]
          },
          "metadata": {},
          "execution_count": 14
        }
      ]
    },
    {
      "cell_type": "code",
      "source": [
        "y_pred"
      ],
      "metadata": {
        "colab": {
          "base_uri": "https://localhost:8080/"
        },
        "id": "dEzByrnBmQ-6",
        "outputId": "7eb46c86-2c0e-49e0-99c5-6336ee1b0967"
      },
      "execution_count": null,
      "outputs": [
        {
          "output_type": "execute_result",
          "data": {
            "text/plain": [
              "array([1, 0, 1, 1, 0, 0, 1, 2, 2, 2, 0, 0, 0, 0, 0, 0, 2, 2, 2, 1, 2, 2,\n",
              "       0, 0, 0, 0, 1, 2, 2, 0, 1, 0, 2, 2, 1, 1, 0, 1, 1, 0, 0, 2, 2, 2,\n",
              "       2, 0, 0, 0, 1, 1, 1, 1, 1, 1, 1, 0, 2, 1, 0, 1, 1, 0, 0, 2, 1, 2,\n",
              "       0, 0, 2, 2, 2, 0, 1, 2, 2, 1, 2, 0, 0, 0, 0, 2, 2, 1, 2, 2, 2, 1,\n",
              "       0, 1, 1, 1, 1, 1, 0, 1, 0, 2, 2, 2, 1, 0, 1, 1, 2, 1, 1, 1, 0, 1,\n",
              "       2, 0, 0, 2, 1, 2, 0, 1, 2, 1, 2, 2, 1, 0, 0, 0, 1, 2, 0, 2, 0, 0,\n",
              "       2, 1, 0, 1, 0, 1, 2, 1, 2, 2, 1, 2, 2, 0, 2, 2, 1, 1, 0, 0, 0, 2,\n",
              "       1, 0, 1, 0, 0, 1, 2, 2, 1, 0, 0, 1, 0, 0, 0, 2, 2, 0, 2, 1, 1, 0,\n",
              "       1, 1, 2, 0, 1, 1, 0, 0, 2, 2, 1, 2, 0, 1, 0, 1, 1, 1, 1, 0, 1, 1,\n",
              "       1, 1])"
            ]
          },
          "metadata": {},
          "execution_count": 15
        }
      ]
    },
    {
      "cell_type": "code",
      "source": [
        "from sklearn.metrics import confusion_matrix, accuracy_score, classification_report\n",
        "print(\"confusion_matrix:\", confusion_matrix(y_pred, y_test))\n",
        "print(\"accuracy_score:\", accuracy_score(y_pred, y_test))\n",
        "print(\"classification_report:\", classification_report(y_pred, y_test))"
      ],
      "metadata": {
        "colab": {
          "base_uri": "https://localhost:8080/"
        },
        "id": "2Muxu3ZSkU3D",
        "outputId": "b6e49462-5b1f-436c-dc99-dd1d7a2045ef"
      },
      "execution_count": null,
      "outputs": [
        {
          "output_type": "stream",
          "name": "stdout",
          "text": [
            "confusion_matrix: [[52  5 11]\n",
            " [ 8 47 17]\n",
            " [ 8 13 39]]\n",
            "accuracy_score: 0.69\n",
            "classification_report:               precision    recall  f1-score   support\n",
            "\n",
            "           0       0.76      0.76      0.76        68\n",
            "           1       0.72      0.65      0.69        72\n",
            "           2       0.58      0.65      0.61        60\n",
            "\n",
            "    accuracy                           0.69       200\n",
            "   macro avg       0.69      0.69      0.69       200\n",
            "weighted avg       0.69      0.69      0.69       200\n",
            "\n"
          ]
        }
      ]
    },
    {
      "cell_type": "markdown",
      "source": [
        "## Using One Vs Rest (OVR)"
      ],
      "metadata": {
        "id": "HDbemnElonqA"
      }
    },
    {
      "cell_type": "code",
      "source": [
        "model = LogisticRegression(multi_class='ovr', solver='lbfgs')"
      ],
      "metadata": {
        "id": "yf4H4qlOkU59"
      },
      "execution_count": null,
      "outputs": []
    },
    {
      "cell_type": "code",
      "source": [
        "model.fit(X_train, y_train)"
      ],
      "metadata": {
        "colab": {
          "base_uri": "https://localhost:8080/",
          "height": 74
        },
        "id": "Y5T4HB_CkVA7",
        "outputId": "2ba73f7f-4770-4bfd-bc4c-7b1766a409c5"
      },
      "execution_count": null,
      "outputs": [
        {
          "output_type": "execute_result",
          "data": {
            "text/plain": [
              "LogisticRegression(multi_class='ovr')"
            ],
            "text/html": [
              "<style>#sk-container-id-3 {color: black;background-color: white;}#sk-container-id-3 pre{padding: 0;}#sk-container-id-3 div.sk-toggleable {background-color: white;}#sk-container-id-3 label.sk-toggleable__label {cursor: pointer;display: block;width: 100%;margin-bottom: 0;padding: 0.3em;box-sizing: border-box;text-align: center;}#sk-container-id-3 label.sk-toggleable__label-arrow:before {content: \"▸\";float: left;margin-right: 0.25em;color: #696969;}#sk-container-id-3 label.sk-toggleable__label-arrow:hover:before {color: black;}#sk-container-id-3 div.sk-estimator:hover label.sk-toggleable__label-arrow:before {color: black;}#sk-container-id-3 div.sk-toggleable__content {max-height: 0;max-width: 0;overflow: hidden;text-align: left;background-color: #f0f8ff;}#sk-container-id-3 div.sk-toggleable__content pre {margin: 0.2em;color: black;border-radius: 0.25em;background-color: #f0f8ff;}#sk-container-id-3 input.sk-toggleable__control:checked~div.sk-toggleable__content {max-height: 200px;max-width: 100%;overflow: auto;}#sk-container-id-3 input.sk-toggleable__control:checked~label.sk-toggleable__label-arrow:before {content: \"▾\";}#sk-container-id-3 div.sk-estimator input.sk-toggleable__control:checked~label.sk-toggleable__label {background-color: #d4ebff;}#sk-container-id-3 div.sk-label input.sk-toggleable__control:checked~label.sk-toggleable__label {background-color: #d4ebff;}#sk-container-id-3 input.sk-hidden--visually {border: 0;clip: rect(1px 1px 1px 1px);clip: rect(1px, 1px, 1px, 1px);height: 1px;margin: -1px;overflow: hidden;padding: 0;position: absolute;width: 1px;}#sk-container-id-3 div.sk-estimator {font-family: monospace;background-color: #f0f8ff;border: 1px dotted black;border-radius: 0.25em;box-sizing: border-box;margin-bottom: 0.5em;}#sk-container-id-3 div.sk-estimator:hover {background-color: #d4ebff;}#sk-container-id-3 div.sk-parallel-item::after {content: \"\";width: 100%;border-bottom: 1px solid gray;flex-grow: 1;}#sk-container-id-3 div.sk-label:hover label.sk-toggleable__label {background-color: #d4ebff;}#sk-container-id-3 div.sk-serial::before {content: \"\";position: absolute;border-left: 1px solid gray;box-sizing: border-box;top: 0;bottom: 0;left: 50%;z-index: 0;}#sk-container-id-3 div.sk-serial {display: flex;flex-direction: column;align-items: center;background-color: white;padding-right: 0.2em;padding-left: 0.2em;position: relative;}#sk-container-id-3 div.sk-item {position: relative;z-index: 1;}#sk-container-id-3 div.sk-parallel {display: flex;align-items: stretch;justify-content: center;background-color: white;position: relative;}#sk-container-id-3 div.sk-item::before, #sk-container-id-3 div.sk-parallel-item::before {content: \"\";position: absolute;border-left: 1px solid gray;box-sizing: border-box;top: 0;bottom: 0;left: 50%;z-index: -1;}#sk-container-id-3 div.sk-parallel-item {display: flex;flex-direction: column;z-index: 1;position: relative;background-color: white;}#sk-container-id-3 div.sk-parallel-item:first-child::after {align-self: flex-end;width: 50%;}#sk-container-id-3 div.sk-parallel-item:last-child::after {align-self: flex-start;width: 50%;}#sk-container-id-3 div.sk-parallel-item:only-child::after {width: 0;}#sk-container-id-3 div.sk-dashed-wrapped {border: 1px dashed gray;margin: 0 0.4em 0.5em 0.4em;box-sizing: border-box;padding-bottom: 0.4em;background-color: white;}#sk-container-id-3 div.sk-label label {font-family: monospace;font-weight: bold;display: inline-block;line-height: 1.2em;}#sk-container-id-3 div.sk-label-container {text-align: center;}#sk-container-id-3 div.sk-container {/* jupyter's `normalize.less` sets `[hidden] { display: none; }` but bootstrap.min.css set `[hidden] { display: none !important; }` so we also need the `!important` here to be able to override the default hidden behavior on the sphinx rendered scikit-learn.org. See: https://github.com/scikit-learn/scikit-learn/issues/21755 */display: inline-block !important;position: relative;}#sk-container-id-3 div.sk-text-repr-fallback {display: none;}</style><div id=\"sk-container-id-3\" class=\"sk-top-container\"><div class=\"sk-text-repr-fallback\"><pre>LogisticRegression(multi_class=&#x27;ovr&#x27;)</pre><b>In a Jupyter environment, please rerun this cell to show the HTML representation or trust the notebook. <br />On GitHub, the HTML representation is unable to render, please try loading this page with nbviewer.org.</b></div><div class=\"sk-container\" hidden><div class=\"sk-item\"><div class=\"sk-estimator sk-toggleable\"><input class=\"sk-toggleable__control sk-hidden--visually\" id=\"sk-estimator-id-3\" type=\"checkbox\" checked><label for=\"sk-estimator-id-3\" class=\"sk-toggleable__label sk-toggleable__label-arrow\">LogisticRegression</label><div class=\"sk-toggleable__content\"><pre>LogisticRegression(multi_class=&#x27;ovr&#x27;)</pre></div></div></div></div></div>"
            ]
          },
          "metadata": {},
          "execution_count": 23
        }
      ]
    },
    {
      "cell_type": "code",
      "source": [
        " y_pred=model.predict(X_test)"
      ],
      "metadata": {
        "id": "o0HtWSeUhpye"
      },
      "execution_count": null,
      "outputs": []
    },
    {
      "cell_type": "code",
      "source": [
        "y_pred"
      ],
      "metadata": {
        "colab": {
          "base_uri": "https://localhost:8080/"
        },
        "id": "e9RB9J0IphU5",
        "outputId": "559d1b3b-cdff-4433-9cf1-0fa8e11cca6a"
      },
      "execution_count": null,
      "outputs": [
        {
          "output_type": "execute_result",
          "data": {
            "text/plain": [
              "array([1, 0, 1, 1, 0, 0, 1, 2, 2, 2, 0, 0, 0, 0, 0, 0, 2, 1, 2, 1, 2, 2,\n",
              "       0, 0, 0, 0, 1, 2, 0, 0, 1, 0, 2, 2, 1, 1, 0, 1, 1, 0, 0, 2, 2, 2,\n",
              "       2, 0, 0, 0, 1, 1, 1, 1, 1, 1, 0, 0, 2, 1, 0, 1, 1, 0, 0, 2, 1, 0,\n",
              "       0, 0, 1, 2, 2, 0, 1, 2, 2, 1, 2, 0, 0, 0, 0, 2, 2, 1, 2, 2, 0, 2,\n",
              "       0, 1, 1, 1, 1, 1, 0, 1, 0, 2, 2, 2, 1, 0, 1, 1, 2, 1, 1, 2, 0, 1,\n",
              "       2, 0, 0, 2, 2, 2, 0, 1, 2, 1, 2, 0, 1, 0, 0, 0, 1, 2, 0, 2, 0, 0,\n",
              "       2, 1, 0, 2, 0, 1, 2, 1, 0, 2, 1, 0, 2, 0, 2, 2, 1, 1, 0, 0, 0, 2,\n",
              "       1, 0, 1, 0, 0, 2, 2, 1, 1, 0, 0, 1, 0, 0, 0, 2, 2, 0, 2, 2, 1, 2,\n",
              "       1, 1, 2, 0, 1, 1, 0, 0, 2, 2, 1, 1, 0, 1, 0, 1, 1, 1, 1, 0, 1, 1,\n",
              "       1, 1])"
            ]
          },
          "metadata": {},
          "execution_count": 25
        }
      ]
    },
    {
      "cell_type": "code",
      "source": [
        "from sklearn.metrics import confusion_matrix, accuracy_score, classification_report\n",
        "print(\"confusion_matrix:\", confusion_matrix(y_pred, y_test))\n",
        "print(\"accuracy_score:\", accuracy_score(y_pred, y_test))\n",
        "print(\"classification_report:\", classification_report(y_pred, y_test))"
      ],
      "metadata": {
        "colab": {
          "base_uri": "https://localhost:8080/"
        },
        "id": "gdXHhDUgpct_",
        "outputId": "f3883a65-54cc-4f28-a527-787b972dbef2"
      },
      "execution_count": null,
      "outputs": [
        {
          "output_type": "stream",
          "name": "stdout",
          "text": [
            "confusion_matrix: [[54  6 14]\n",
            " [ 7 45 17]\n",
            " [ 7 14 36]]\n",
            "accuracy_score: 0.675\n",
            "classification_report:               precision    recall  f1-score   support\n",
            "\n",
            "           0       0.79      0.73      0.76        74\n",
            "           1       0.69      0.65      0.67        69\n",
            "           2       0.54      0.63      0.58        57\n",
            "\n",
            "    accuracy                           0.68       200\n",
            "   macro avg       0.67      0.67      0.67       200\n",
            "weighted avg       0.69      0.68      0.68       200\n",
            "\n"
          ]
        }
      ]
    }
  ]
}